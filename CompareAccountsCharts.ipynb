{
  "nbformat": 4,
  "nbformat_minor": 0,
  "metadata": {
    "colab": {
      "provenance": [],
      "authorship_tag": "ABX9TyNAD59LftOZsz6/cx+eDlub",
      "include_colab_link": true
    },
    "kernelspec": {
      "name": "python3",
      "display_name": "Python 3"
    },
    "language_info": {
      "name": "python"
    }
  },
  "cells": [
    {
      "cell_type": "markdown",
      "metadata": {
        "id": "view-in-github",
        "colab_type": "text"
      },
      "source": [
        "<a href=\"https://colab.research.google.com/github/jaspencer00/compareAccountsCharts/blob/main/CompareAccountsCharts.ipynb\" target=\"_parent\"><img src=\"https://colab.research.google.com/assets/colab-badge.svg\" alt=\"Open In Colab\"/></a>"
      ]
    },
    {
      "cell_type": "code",
      "source": [
        "pip install openai"
      ],
      "metadata": {
        "id": "JHZ4gNd7_Zjn"
      },
      "execution_count": null,
      "outputs": []
    },
    {
      "cell_type": "code",
      "source": [
        "pip install fuzzywuzzy python-Levenshtein\n"
      ],
      "metadata": {
        "id": "HQZK4nMH_VKl"
      },
      "execution_count": null,
      "outputs": []
    },
    {
      "cell_type": "code",
      "source": [
        "import pandas as pd\n",
        "from fuzzywuzzy import process"
      ],
      "metadata": {
        "id": "p-iJlWBVGyqO"
      },
      "execution_count": 11,
      "outputs": []
    },
    {
      "cell_type": "code",
      "source": [
        "sheet1 = pd.read_csv(\"/content/sample_data/accounts/keytime - Keytime.csv\")\n",
        "sheet2 = pd.read_csv(\"/content/sample_data/accounts/iris - Iris.csv\")"
      ],
      "metadata": {
        "id": "HK728wd8G9t-"
      },
      "execution_count": 12,
      "outputs": []
    },
    {
      "cell_type": "code",
      "source": [
        "def find_closest_match(description, choices):\n",
        "  best_match = process.extractOne(description, choices)\n",
        "  return best_match[0], best_match[1]"
      ],
      "metadata": {
        "id": "CKy9HIKGHZXZ"
      },
      "execution_count": 19,
      "outputs": []
    },
    {
      "cell_type": "code",
      "source": [
        "result =pd.DataFrame(columns=['Keytime_code', 'Keytime_description', 'Iris_code', 'Iris_description'])"
      ],
      "metadata": {
        "id": "KZMsZyPBHvGt"
      },
      "execution_count": 17,
      "outputs": []
    },
    {
      "cell_type": "code",
      "source": [
        "sheet2_descriptions = sheet2['Description'].tolist()\n",
        "\n",
        "for index, row in sheet1.iterrows():\n",
        "  sheet1_description = row['Description']\n",
        "  closest_match_description, _ = find_closest_match(sheet1_description, sheet2_descriptions)\n",
        "  sheet2_row = sheet2[sheet2['Description'] == closest_match_description]\n",
        "\n",
        "  if not sheet2_row.empty:\n",
        "    sheet2_row = sheet2_row.iloc[0]\n",
        "\n",
        "    result = result.append({\n",
        "        'Keytime_code': row['Code'],\n",
        "        'Keytime_description': sheet1_description,\n",
        "        'Iris_code': sheet2_row['N/L Acc.'],\n",
        "        'Iris_description': closest_match_description\n",
        "    }, ignore_index=True)\n",
        "  else:\n",
        "    print(f\"No match found for {sheet1_description}\")"
      ],
      "metadata": {
        "id": "pHXqLjrJIA6Z"
      },
      "execution_count": null,
      "outputs": []
    },
    {
      "cell_type": "code",
      "source": [
        "result.to_csv('/content/sample_data/accounts/output.csv', index=False)"
      ],
      "metadata": {
        "id": "z-uACoj1Lzsj"
      },
      "execution_count": 23,
      "outputs": []
    }
  ]
}